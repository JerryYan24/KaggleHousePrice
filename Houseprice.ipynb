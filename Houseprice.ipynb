{
 "cells": [
  {
   "cell_type": "code",
   "execution_count": 138,
   "metadata": {
    "collapsed": true,
    "ExecuteTime": {
     "end_time": "2023-06-23T06:35:11.764631300Z",
     "start_time": "2023-06-23T06:35:11.748996300Z"
    }
   },
   "outputs": [],
   "source": [
    "import pandas as pd\n",
    "import torch\n",
    "import torch.nn as nn"
   ]
  },
  {
   "cell_type": "code",
   "execution_count": 139,
   "outputs": [
    {
     "name": "stdout",
     "output_type": "stream",
     "text": [
      "   Id  MSSubClass MSZoning SaleCondition  SalePrice\n",
      "0   1          60       RL        Normal     208500\n",
      "1   2          20       RL        Normal     181500\n",
      "2   3          60       RL        Normal     223500\n",
      "3   4          70       RL       Abnorml     140000\n"
     ]
    }
   ],
   "source": [
    "train_set = pd.read_csv('train.csv')\n",
    "test_set = pd.read_csv('test.csv')\n",
    "#print(train_set)\n",
    "print(train_set.iloc[0:4, [0, 1, 2, -2, -1]])\n",
    "#print(train_set.info)"
   ],
   "metadata": {
    "collapsed": false,
    "ExecuteTime": {
     "end_time": "2023-06-23T06:35:11.796152100Z",
     "start_time": "2023-06-23T06:35:11.764631300Z"
    }
   }
  },
  {
   "cell_type": "code",
   "execution_count": 140,
   "outputs": [
    {
     "name": "stdout",
     "output_type": "stream",
     "text": [
      "   MSSubClass MSZoning  LotFrontage SaleType SaleCondition\n",
      "0          60       RL         65.0       WD        Normal\n",
      "1          20       RL         80.0       WD        Normal\n",
      "2          60       RL         68.0       WD        Normal\n",
      "3          70       RL         60.0       WD       Abnorml\n"
     ]
    }
   ],
   "source": [
    "data_set = pd.concat((train_set.iloc[: , 1:-1], test_set.iloc[:, 1:]))\n",
    "print(data_set.iloc[0:4, [0, 1, 2, -2, -1]])\n",
    "#print(data_set.info)"
   ],
   "metadata": {
    "collapsed": false,
    "ExecuteTime": {
     "end_time": "2023-06-23T06:35:11.827302Z",
     "start_time": "2023-06-23T06:35:11.796152100Z"
    }
   }
  },
  {
   "cell_type": "markdown",
   "source": [
    "对数据进行标准化，标准化后用均值代替Na，此时均值为0，故fillna"
   ],
   "metadata": {
    "collapsed": false
   }
  },
  {
   "cell_type": "code",
   "execution_count": 141,
   "outputs": [],
   "source": [
    "numeric_features = data_set.dtypes[data_set.dtypes != 'object'].index\n",
    "data_set[numeric_features] = data_set[numeric_features].apply(\n",
    "    lambda x: (x - x.mean()) /(x.std())) #此处lambda意义\n",
    "data_set[numeric_features] = data_set[numeric_features].fillna(0)"
   ],
   "metadata": {
    "collapsed": false,
    "ExecuteTime": {
     "end_time": "2023-06-23T06:35:11.843026400Z",
     "start_time": "2023-06-23T06:35:11.811664500Z"
    }
   }
  },
  {
   "cell_type": "code",
   "execution_count": 142,
   "outputs": [
    {
     "name": "stdout",
     "output_type": "stream",
     "text": [
      "(2919, 331)\n"
     ]
    }
   ],
   "source": [
    "data_set = pd.get_dummies(data_set, dummy_na=True)\n",
    "print(data_set.shape)"
   ],
   "metadata": {
    "collapsed": false,
    "ExecuteTime": {
     "end_time": "2023-06-23T06:35:11.873978600Z",
     "start_time": "2023-06-23T06:35:11.843026400Z"
    }
   }
  },
  {
   "cell_type": "code",
   "execution_count": 143,
   "outputs": [],
   "source": [
    "n_train = train_set.shape[0]\n",
    "train_features = torch.tensor(data_set[0: n_train].values, dtype=torch.float32)\n",
    "test_features = torch.tensor(data_set[n_train:].values, dtype=torch.float32)\n",
    "train_labels = torch.tensor(\n",
    "    train_set.SalePrice.values.reshape(-1, 1),dtype=torch.float32)\n",
    "#print(train_set.SalePrice)"
   ],
   "metadata": {
    "collapsed": false,
    "ExecuteTime": {
     "end_time": "2023-06-23T06:35:11.905111300Z",
     "start_time": "2023-06-23T06:35:11.873978600Z"
    }
   }
  },
  {
   "cell_type": "code",
   "execution_count": 144,
   "outputs": [
    {
     "name": "stdout",
     "output_type": "stream",
     "text": [
      "torch.Size([1460, 331])\n"
     ]
    }
   ],
   "source": [
    "loss = nn.MSELoss()\n",
    "#print(train_features.shape)\n",
    "in_features = train_features.shape[1]\n",
    "def net():\n",
    "    net = nn.Sequential(nn.Linear(in_features, 1))\n",
    "    return net"
   ],
   "metadata": {
    "collapsed": false,
    "ExecuteTime": {
     "end_time": "2023-06-23T06:35:11.905111300Z",
     "start_time": "2023-06-23T06:35:11.889605600Z"
    }
   }
  },
  {
   "cell_type": "code",
   "execution_count": null,
   "outputs": [],
   "source": [],
   "metadata": {
    "collapsed": false
   }
  }
 ],
 "metadata": {
  "kernelspec": {
   "display_name": "Python 3",
   "language": "python",
   "name": "python3"
  },
  "language_info": {
   "codemirror_mode": {
    "name": "ipython",
    "version": 2
   },
   "file_extension": ".py",
   "mimetype": "text/x-python",
   "name": "python",
   "nbconvert_exporter": "python",
   "pygments_lexer": "ipython2",
   "version": "2.7.6"
  }
 },
 "nbformat": 4,
 "nbformat_minor": 0
}
